{
 "cells": [
  {
   "cell_type": "code",
   "execution_count": 4,
   "metadata": {},
   "outputs": [
    {
     "data": {
      "text/plain": [
       "array(['HipHop', 'Dance'], dtype=object)"
      ]
     },
     "execution_count": 4,
     "metadata": {},
     "output_type": "execute_result"
    }
   ],
   "source": [
    "#making simple predictions\n",
    "\n",
    "import pandas as pd\n",
    "from sklearn.tree import DecisionTreeClassifier #the machinelearning model/method we will be using\n",
    "\n",
    "#importing data set\n",
    "music_data = pd.read_csv('music.csv')\n",
    "Input = music_data.drop(columns=['genre'])\n",
    "Output = music_data['genre'] #or music_data.drop(columns = ['age','gender'])\n",
    "\n",
    "#creating the model\n",
    "model = DecisionTreeClassifier()\n",
    "\n",
    "#train it\n",
    "model.fit(Input, Output)\n",
    "\n",
    "#ask to make prediction\n",
    "prediction = model.predict([[21,1],[22,0]])\n",
    "prediction"
   ]
  },
  {
   "cell_type": "code",
   "execution_count": 5,
   "metadata": {},
   "outputs": [],
   "source": [
    "import pandas as pd\n",
    "from sklearn.tree import DecisionTreeClassifier #the machinelearning model/method we will be using\n",
    "from sklearn import tree\n",
    "\n",
    "#importing data set\n",
    "music_data = pd.read_csv('music.csv')\n",
    "Input = music_data.drop(columns=['genre'])\n",
    "Output = music_data['genre'] #or music_data.drop(columns = ['age','gender'])\n",
    "\n",
    "#creating the model\n",
    "model = DecisionTreeClassifier()\n",
    "#train it\n",
    "model.fit(Input, Output)\n",
    "\n",
    "tree.export_graphviz(model, out_file='music-recommender.dot',\n",
    "                    feature_names=['age', 'gender'],\n",
    "                    class_names=sorted(Output.unique()),\n",
    "                    label='all',\n",
    "                    rounded = True,\n",
    "                    filled=True)\n",
    "                     \n",
    "\n",
    "#ask to make prediction\n",
    "# prediction = model.predict([[21,1],[22,0]])\n",
    "# prediction"
   ]
  },
  {
   "cell_type": "code",
   "execution_count": null,
   "metadata": {},
   "outputs": [],
   "source": [
    "d"
   ]
  }
 ],
 "metadata": {
  "kernelspec": {
   "display_name": "Python 3",
   "language": "python",
   "name": "python3"
  },
  "language_info": {
   "codemirror_mode": {
    "name": "ipython",
    "version": 3
   },
   "file_extension": ".py",
   "mimetype": "text/x-python",
   "name": "python",
   "nbconvert_exporter": "python",
   "pygments_lexer": "ipython3",
   "version": "3.7.6"
  }
 },
 "nbformat": 4,
 "nbformat_minor": 4
}
