{
 "cells": [
  {
   "cell_type": "code",
   "execution_count": 31,
   "metadata": {},
   "outputs": [
    {
     "data": {
      "text/plain": [
       "1.0"
      ]
     },
     "execution_count": 31,
     "metadata": {},
     "output_type": "execute_result"
    }
   ],
   "source": [
    "#getting to know the accuracy of the prediction we've made\n",
    "\n",
    "import pandas as pd\n",
    "from sklearn.tree import DecisionTreeClassifier #the machinelearning model/method we will be using\n",
    "from sklearn.model_selection import train_test_split #spliting data set in 2 (training & testing)\n",
    "from sklearn.metrics import accuracy_score \n",
    "\n",
    "music_data = pd.read_csv('music.csv')\n",
    "Input = music_data.drop(columns=['genre'])\n",
    "Output = music_data['genre'] #or music_data.drop(columns = ['age','gender'])\n",
    "\n",
    "Input_train, Input_test, Output_train, Output_test = train_test_split(Input,Output,test_size=0.2) \n",
    "#this will return a tupple that has 4 values, thats why we need 4 variables\n",
    "\n",
    "model = DecisionTreeClassifier()\n",
    "model.fit(Input_train, Output_train)\n",
    "prediction = model.predict(Input_test) #we are gonna compare this with the \"expected value\" which is Output_test\n",
    "\n",
    "score = accuracy_score(Output_test, prediction) #the accuracy score is between 0 to 1 . as 1 being 100% accurate\n",
    "score"
   ]
  },
  {
   "cell_type": "code",
   "execution_count": null,
   "metadata": {},
   "outputs": [],
   "source": []
  }
 ],
 "metadata": {
  "kernelspec": {
   "display_name": "Python 3",
   "language": "python",
   "name": "python3"
  },
  "language_info": {
   "codemirror_mode": {
    "name": "ipython",
    "version": 3
   },
   "file_extension": ".py",
   "mimetype": "text/x-python",
   "name": "python",
   "nbconvert_exporter": "python",
   "pygments_lexer": "ipython3",
   "version": "3.7.6"
  }
 },
 "nbformat": 4,
 "nbformat_minor": 4
}
